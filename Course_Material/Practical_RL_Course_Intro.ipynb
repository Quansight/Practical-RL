{
 "cells": [
  {
   "cell_type": "markdown",
   "id": "ee0d19d3-31bb-49a3-83cd-2e1d20eb3b1c",
   "metadata": {},
   "source": [
    "# Practical Reinforcement Learning Course\n",
    "\n",
    "The exercises in this repo are assembled as a course for learning the practical aspects of reinforcement learning. \n",
    "\n",
    "## Learning Outcomes\n",
    "In this course, you will learn how to:\n",
    "- set up an RL simulation environment\n",
    "- modify a critical part of the algorithm: the reward function\n",
    "- practice thinking creatively to improve learning and reduce learning time"
   ]
  },
  {
   "cell_type": "markdown",
   "id": "c5fd753b-3b4b-421f-b51b-917079b5d2f2",
   "metadata": {},
   "source": [
    "## Course Design\n",
    "- Day 1: \n",
    "- Day 2:\n",
    "- "
   ]
  },
  {
   "cell_type": "markdown",
   "id": "4b31001e-c0ec-4909-b810-02381c2f9973",
   "metadata": {},
   "source": [
    "## Technical Requirements\n",
    "- Computer specs\n",
    "- Some Python experience\n",
    "- Some git experience\n",
    "- "
   ]
  }
 ],
 "metadata": {
  "kernelspec": {
   "display_name": "Python 3 (ipykernel)",
   "language": "python",
   "name": "python3"
  },
  "language_info": {
   "codemirror_mode": {
    "name": "ipython",
    "version": 3
   },
   "file_extension": ".py",
   "mimetype": "text/x-python",
   "name": "python",
   "nbconvert_exporter": "python",
   "pygments_lexer": "ipython3",
   "version": "3.9.7"
  }
 },
 "nbformat": 4,
 "nbformat_minor": 5
}
