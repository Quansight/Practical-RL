{
 "cells": [
  {
   "cell_type": "markdown",
   "id": "02dbec6d",
   "metadata": {},
   "source": [
    "## Day 4: Hyperparameter Tuning, Acceleration, Building Your Own Environment"
   ]
  },
  {
   "cell_type": "markdown",
   "id": "027eeec9",
   "metadata": {},
   "source": [
    "### Hyperparameter Tuning"
   ]
  },
  {
   "cell_type": "markdown",
   "id": "6089cc43",
   "metadata": {},
   "source": [
    "Below, we have the exact same training script training an ant for the same time and task, but we've altered a single input parameter to the machinery: tau.  This is the rate at which the target network is updated - each color in the image represents a different value for tau, and each value is run 3-5 times, with different seeds.\n",
    "\n",
    "In all cases, you'll eventually get the answer - they all saturate at about the same reward. But in some cases, we would be 'done' before 400k time-steps, and some take nearly double that.\n",
    "\n",
    "This should illustrate two things - first, the training path is not deterministic across random seeds (the spread between paths in a single color) - and second, if you know your system and the parameters that go into the training, small changes can have big impacts on resources down the road."
   ]
  },
  {
   "cell_type": "code",
   "execution_count": null,
   "id": "384f49fb",
   "metadata": {},
   "outputs": [],
   "source": [
    "import IPython.display as ipd\n",
    "ipd.Image(\"images/modifying_tau.png\")"
   ]
  },
  {
   "cell_type": "code",
   "execution_count": null,
   "id": "23c6408b",
   "metadata": {},
   "outputs": [],
   "source": [
    "ipd.Image(\"images/tau_005.png\")"
   ]
  },
  {
   "cell_type": "code",
   "execution_count": null,
   "id": "50701535",
   "metadata": {},
   "outputs": [],
   "source": [
    "ipd.Image(\"images/tau_007.png\")"
   ]
  },
  {
   "cell_type": "code",
   "execution_count": null,
   "id": "2ab2199d-5921-4cce-af17-42ebf26c0652",
   "metadata": {},
   "outputs": [],
   "source": []
  }
 ],
 "metadata": {
  "kernelspec": {
   "display_name": "Python 3 (ipykernel)",
   "language": "python",
   "name": "python3"
  },
  "language_info": {
   "codemirror_mode": {
    "name": "ipython",
    "version": 3
   },
   "file_extension": ".py",
   "mimetype": "text/x-python",
   "name": "python",
   "nbconvert_exporter": "python",
   "pygments_lexer": "ipython3",
   "version": "3.9.6"
  }
 },
 "nbformat": 4,
 "nbformat_minor": 5
}
