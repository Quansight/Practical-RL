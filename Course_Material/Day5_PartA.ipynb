{
 "cells": [
  {
   "cell_type": "markdown",
   "id": "b0c88cdd",
   "metadata": {},
   "source": [
    "## Day 5, Part A: Multi-Agent RL"
   ]
  },
  {
   "cell_type": "markdown",
   "id": "16a60c5f-3997-4d03-9c6e-f4ded3ab6778",
   "metadata": {},
   "source": [
    "## Learning goals\n",
    "- What is MARL\n",
    "- Frameworks and considerations"
   ]
  },
  {
   "cell_type": "markdown",
   "id": "72d6f2bf-7a6f-4a89-9510-b998bfc602b1",
   "metadata": {},
   "source": [
    "## Definitions\n",
    "- **Simulation environment**: Notice that this is not the same as the python/conda environment.  The simulation environment is the simulated world where the reinforcement learning takes place.  It provides opportunities for an agent to learn and explore, and ideally provides challenges that aid in efficient learning.\n",
    "- **Agent (aka actor or policy)**: An entity in the simulation environment that performs actions.  The agent could be a person, a robot, a car, a thermostat, etc.\n",
    "- **State variable**: An observed variable in the simulation environment.  They can be coordinates of objects or entities, an amount of fuel in a tank, air temperature, wind speed, etc.\n",
    "- **Action variable**: An action that the agent can perform.  Examples: step forward, increase velocity to 552.5 knots, push object left with force of 212.3 N, etc.\n",
    "- **Reward**: A value given to the agent for doing something considered to be 'good'.  Reward is commonly assigned at each time step and cumulated during a learning episode.\n",
    "- **Episode**: A learning event consisting of multiple steps in which the agent can explore.  It starts with the unmodified environment and continues until the goal is achieved or something prevents further progress, such as a robot getting stuck in a hole.  Multiple episodes are typically run in loops until the model is fully trained.\n",
    "- **Model (aka policy or agent)**: An RL model is composed of the modeling architecture (e.g., neural network) and parameters or weights that define the unique behavior of the model.\n",
    "- **Policy (aka model or agent)**: The parameters of a model that encode the best choices to make in an environment.  The choices are not necessarily good ones until the model undergoes training.  The policy (or model) is the \"brain\" of the agent.\n",
    "- **Replay Buffer**: A place in memory to store state, action, reward and other variables describing environmental state transitions. It is effectively the agent's memory of past experiences.\n",
    "- **On-policy**: The value of the next action is determined using the current actor policy.\n",
    "- **Off-policy**: The value of the next action is determined by a function, such as a value function, instead of the current actor policy.\n",
    "- **Value function**: Function (typically a neural network) used to estimate the value, or expected reward, of an action."
   ]
  },
  {
   "cell_type": "markdown",
   "id": "e8c70719-ea17-4d9c-bf74-dea12cf2269e",
   "metadata": {},
   "source": [
    "## Multi-Agent"
   ]
  },
  {
   "cell_type": "markdown",
   "id": "88bbfe66-8137-4032-b1d9-d8f5d76c2125",
   "metadata": {},
   "source": [
    "If reinforcement learning is an area of ongoing research, then multi-agent RL (MARL) is its latest frontier.  As such, there's less we can definitively say about optimal implementations and resources for it.  What we can do is describe the key concepts, some places to look for information, and some of the platforms/frameworks available."
   ]
  },
  {
   "cell_type": "markdown",
   "id": "210490ab-f16d-4ed0-bb97-9f6861dd30b0",
   "metadata": {},
   "source": [
    "First thing to note: there are two types of multi-agent RL concepts that are prominent today: \n",
    "- Multiple agents in one or more environments sharing knowledge as they explore\n",
    "- Multiple agents working together to accomplish one or more goals\n",
    "\n",
    "The first one is a method for multiplying the algorithm's ability to sample the environment space (via vectorization, parallel environments, or many agents in a single environment that pool learning); an example of this is NVIDIA's [isaac gym](https://sites.google.com/view/isaacgym-nvidia) - nothing like seeing another group spit out 32 million time-steps in 75sec to make our TD3 ant feel silly for spending all that time on its own."
   ]
  },
  {
   "cell_type": "code",
   "execution_count": null,
   "id": "282846f3-9532-4500-88ba-67e7d97a52b1",
   "metadata": {},
   "outputs": [],
   "source": [
    "from IPython.display import Audio,Image, YouTubeVideo\n",
    "id = 'Jq9NEpZOpik'\n",
    "YouTubeVideo(id=id,width=600,height=480)"
   ]
  },
  {
   "cell_type": "markdown",
   "id": "0e2e6d04-b78b-42b3-851a-584437bb12bc",
   "metadata": {},
   "source": [
    "The main challenges in this first type of multi-agent RL are usually dev-ops questions of scaling and collecting/communicating information correctly and efficiently.\n",
    "\n",
    "The second type of MARL is the harder bit - and it is harder - that is, many *different* agents learning to play individual parts in a larger group.  In this case, we have to consider how multiple agents learn in the context of environment stationarity (whether changes in the environment caused by one agent affect the actions taken by another, independent agent).  If each agent is learning, then each agent's behavior is changing over time.  From one agent's perspective, all other agents can be considered part of the environment, and if those agents are changing behavior over time, the environment is changing over time.  The time needed to learn in this kind of rapidly changing environment increases greatly.\n",
    "\n",
    "Another way to view this problem is that the policy becomes a moving target.  The goal is for the agent (policy) to learn to anticipate all of the state-action transitions in the environment.  However, if those transitions are changing over time, the policy will have a difficult time converging on a solution that appears to be changing as well.\n",
    "\n",
    "Notice that in the first type of \"pooled learning\" MARL, each agent usually has its own environment to explore (vectorized or parallel environments).  In those cases, the effect of actions taken by an agent are generally easier for the algorithm to learn.\n",
    "\n",
    "So instead of relying on the same algorithms used to train single angents, MARL algorithms are being developed to handle the new complexities of this kind of RL."
   ]
  },
  {
   "cell_type": "code",
   "execution_count": null,
   "id": "cf33de0b-9d42-4f11-b604-bc757efbbb22",
   "metadata": {},
   "outputs": [],
   "source": [
    "id='HCSm0kVolqI'\n",
    "YouTubeVideo(id=id,width=600,height=480)"
   ]
  },
  {
   "cell_type": "markdown",
   "id": "afe96fed-825a-4cce-9ed0-4415de7671f0",
   "metadata": {},
   "source": [
    "As with single-agent RL, MARL has a whole new zoo of algorithms and platforms to choose from:"
   ]
  },
  {
   "cell_type": "markdown",
   "id": "b21c28ac-87e5-494b-aaf4-8e1b07388504",
   "metadata": {},
   "source": [
    "- MADDPG (openai),\n",
    "paper: https://arxiv.org/pdf/1706.02275.pdf\n",
    "original git: https://github.com/openai/maddpg\n",
    "pytorch implementation: https://github.com/shariqiqbal2810/maddpg-pytorch\n",
    "- MATD3,\n",
    "paper: https://arxiv.org/abs/1910.01465\n",
    "author's git: https://github.com/JohannesAck/MATD3implementation"
   ]
  },
  {
   "cell_type": "markdown",
   "id": "bfd6d692-f83e-4890-be8e-b455813a3ba7",
   "metadata": {},
   "source": [
    "- QMIX: https://arxiv.org/abs/1803.11485\n",
    "- MAVEN: https://arxiv.org/abs/1910.07483\n",
    "- QTRAN: https://arxiv.org/abs/1905.05408\n",
    "- VDN: https://arxiv.org/abs/1706.05296\n",
    "- SA-MATD3: https://arxiv.org/abs/2107.00284\n",
    "- (add-on mod: UPDeT https://arxiv.org/abs/2101.08001)"
   ]
  },
  {
   "cell_type": "markdown",
   "id": "3b6ba94a-5b58-4ba5-888b-32ce52a43c63",
   "metadata": {},
   "source": [
    "Literally, a zoo:"
   ]
  },
  {
   "cell_type": "markdown",
   "id": "50147779-20ee-4f92-a532-a70929167497",
   "metadata": {},
   "source": [
    "PettingZoo - the Gym for MA\n",
    "https://www.pettingzoo.ml/ - https://github.com/Farama-Foundation/PettingZoo"
   ]
  },
  {
   "cell_type": "markdown",
   "id": "6e275b08-e7ca-4181-a5ac-e269ee851fc8",
   "metadata": {},
   "source": [
    "Because so much research is ongoing, we mainly present some noteworthy resources below, with no value judgement as to what will work best for you.  As you'll likely see quickly, there's a lot of overlap, but there's also a lot of different ways to approach a similar problem."
   ]
  },
  {
   "cell_type": "markdown",
   "id": "9296e234-d7a3-4f28-8400-c9266b7fa0e9",
   "metadata": {},
   "source": [
    "MAgent\n",
    "paper: https://arxiv.org/abs/1712.00600\n",
    "associated info and code: https://github.com/geek-ai/MAgent"
   ]
  },
  {
   "cell_type": "markdown",
   "id": "65a00f41-1916-4333-a4f8-7d812ba39db0",
   "metadata": {},
   "source": [
    "Oxford comp-sci MA-RL framework: pyMarl\n",
    "https://github.com/oxwhirl/pymarl\n",
    "and associated (starcraft2-based) https://github.com/oxwhirl/smac\n",
    "(one, of many, interesting takes on the challenge: https://arxiv.org/abs/2011.09533)"
   ]
  },
  {
   "cell_type": "markdown",
   "id": "ed61f84f-c273-4779-a57d-420778e34063",
   "metadata": {},
   "source": [
    "Rl_games\n",
    "https://github.com/Denys88/rl_games\n",
    "\n",
    "Nvidia Isaac Gym\n",
    "https://developer.nvidia.com/blog/introducing-isaac-gym-rl-for-robotics/\n",
    "https://arxiv.org/abs/2109.11978\n",
    "https://github.com/NVIDIA-Omniverse/IsaacGymEnvs"
   ]
  },
  {
   "cell_type": "markdown",
   "id": "34d54f4a-d232-48b9-9f07-f3b65ddd3a27",
   "metadata": {},
   "source": [
    "Army MARL with centralized training\n",
    "https://www.army.mil/article/247261/army_researchers_develop_innovative_framework_for_training_ai"
   ]
  },
  {
   "cell_type": "markdown",
   "id": "158528bb-76cb-4914-8aae-1582e926e6f7",
   "metadata": {},
   "source": [
    "Salesforce Warp-drive\n",
    "https://github.com/salesforce/warp-drive"
   ]
  },
  {
   "cell_type": "markdown",
   "id": "bebb5b5e-1ef0-40bd-b8e0-c09e101a9d85",
   "metadata": {},
   "source": [
    "InstaDeep MAVA\n",
    "https://www.instadeep.com/2021/07/mava-a-new-framework-for-distributed-multi-agent-reinforcement-learning/  git: https://github.com/instadeepai/Mava"
   ]
  },
  {
   "cell_type": "markdown",
   "id": "171e81de-9549-4f27-9902-de739a42ba0b",
   "metadata": {},
   "source": [
    "DeepMind's Acme\n",
    "https://deepmind.com/research/publications/2020/Acme  git: https://github.com/deepmind/acme"
   ]
  },
  {
   "cell_type": "markdown",
   "id": "69c892ff-6e05-4d05-8e33-e90745c2ffdc",
   "metadata": {},
   "source": [
    "Berkeley/Ray-RLlib: https://bair.berkeley.edu/blog/2018/12/12/rllib/ git: https://github.com/ray-project/ray RLlib docs: https://docs.ray.io/en/master/rllib/index.html"
   ]
  },
  {
   "cell_type": "markdown",
   "id": "61412404-c0ed-4fd3-ab94-d51c5e36e19d",
   "metadata": {},
   "source": [
    "Intel's MERL: https://www.intel.com/content/www/us/en/artificial-intelligence/posts/introducing-merl.html"
   ]
  },
  {
   "cell_type": "markdown",
   "id": "195bcaad-0ae1-4f63-9c87-bc42b8d0ff95",
   "metadata": {},
   "source": [
    "JORLD from Kakao Enterprise: https://www.reddit.com/r/reinforcementlearning/comments/qp9aj5/jorldy_opensource_reinforcement_learning_framework/ git: https://github.com/kakaoenterprise/JORLDY"
   ]
  },
  {
   "cell_type": "code",
   "execution_count": null,
   "id": "1aa79822-63b1-43e6-bdfa-113527574258",
   "metadata": {},
   "outputs": [],
   "source": []
  }
 ],
 "metadata": {
  "kernelspec": {
   "display_name": "Python 3 (ipykernel)",
   "language": "python",
   "name": "python3"
  },
  "language_info": {
   "codemirror_mode": {
    "name": "ipython",
    "version": 3
   },
   "file_extension": ".py",
   "mimetype": "text/x-python",
   "name": "python",
   "nbconvert_exporter": "python",
   "pygments_lexer": "ipython3",
   "version": "3.9.7"
  }
 },
 "nbformat": 4,
 "nbformat_minor": 5
}
