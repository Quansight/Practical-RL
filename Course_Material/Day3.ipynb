{
 "cells": [
  {
   "cell_type": "markdown",
   "id": "ae47a515-6193-4635-8aee-90348d9aed19",
   "metadata": {},
   "source": [
    "## Modifying The Environment"
   ]
  },
  {
   "cell_type": "markdown",
   "id": "19e9c52e-d16a-4fa0-a141-d06f31f27b64",
   "metadata": {},
   "source": [
    "Great! Now lets have our newly-trained ant run to a few different points around the area and see how it behaves."
   ]
  },
  {
   "cell_type": "code",
   "execution_count": null,
   "id": "8b50e393-2daa-42f1-8161-feab502204b6",
   "metadata": {},
   "outputs": [],
   "source": [
    "import IPython.display as ipd\n",
    "ipd.Image(\"../animations/stuck_ant.png\")"
   ]
  },
  {
   "cell_type": "markdown",
   "id": "a801e935-99bf-4415-bb2d-ee32083dc1d8",
   "metadata": {},
   "source": [
    "Oh. As it turns out, the way that the ant is set up, it learns to run off into the positive-x direction.. and ONLY that.  It was never given any opportunity to have any other experiences to learn from, and so it didn't.  The result of the ant running off to the right is very effective at that one, specific, thing - but completely fragile to any other request, or changes to the environment it might run in."
   ]
  },
  {
   "cell_type": "markdown",
   "id": "66cc236d-b846-4eb4-871e-db7d318b537e",
   "metadata": {},
   "source": [
    "So, lets look at how we might go about modifying our ant and its environment to make the agent a bit more flexible.\n",
    "Of course, you can define the entirety of your environment, its actors, the steps and rewards, etc, by yourself from scratch, but that's a lot of work to be done if you don't need to.  Instead, we rely on the wonderful python `subclass` to override certain things about the ant and its environments we might want to alter, while leaving everything else intact.  If you're new to the concept of a subclass, it's rather straight-forward: define `class MyNewClass(AnOldClass):` in your code and `MyNewClass` will carry forward all the functions that `AnOldClass` had, except where you overwrite them with a function having the same name. In our repository, if you now look at [override_ant.py](https://github.com/dillonroach/TD3/blob/master/override_ant.py) we take all the pieces from [the original ant](https://github.com/bulletphysics/bullet3/tree/master/examples/pybullet/gym/pybullet_envs) and give new names to things, while also exposing key functions in each piece we might want to modify.  The subclassing here gets messy, so here's a quick rundown of what inherits from what:\n",
    "\n",
    "```\n",
    " class MyAntBulletEnv(WalkerBaseBulletEnv): # <- this is our entry point to the new environment\n",
    "       self.robot = MyAnt()\n",
    "                      \\\\\\\n",
    "                   class MyAnt(MyWalkerBase): # MyAntBulletEnv sets the robot as MyAnt\n",
    "                                \\\\\\\n",
    "                                class MyWalkerBase(WalkerBase): #MyAnt subclasses MyWalkerBase, itself from WalkerBase\n",
    "                                \n",
    "                                    def init():\n",
    "                                        ...\n",
    "                                    def step():\n",
    "                                        ...\n",
    "                   \n",
    "```\n",
    "\n",
    "If you take a look at `MyWalkerBase()` and compare to `WalkerBase()` from [the original](https://github.com/bulletphysics/bullet3/blob/master/examples/pybullet/gym/pybullet_envs/robot_locomotors.py) we've copied over `init()` and `step()` as they were written, then tweaked small things.  In this first go, we've only used all this to set the robot target x and y to a new location: 20m, 20m.\n",
    "\n",
    "In order to now use this new, modified environment, we simply add some registration boilerplate to our notebook:\n",
    "\n",
    "```\n",
    "from gym.envs.registration import registry, make, spec\n",
    "\n",
    "\n",
    "def register(id, *args, **kvargs):\n",
    "  if id in registry.env_specs:\n",
    "    return\n",
    "  else:\n",
    "    return gym.envs.registration.register(id, *args, **kvargs)\n",
    "    \n",
    "register(id='MyAntBulletEnv-v0',\n",
    "         entry_point='override_ant:MyAntBulletEnv',\n",
    "         max_episode_steps=1000,\n",
    "         reward_threshold=2500.0)\n",
    "```\n",
    "And then set `\"env\" : \"MyAntBulletEnv-v0\",` instead of the original, in the arguments dictionary.  You can see an example of this change in [TD3notebook-MyAnt.ipynb](https://github.com/dillonroach/TD3/blob/master/TD3notebook-MyAnt.ipynb).  If you run this notebook, you'll end up with an ant that runs to (20,20) instead of off to the right for a kilometer."
   ]
  },
  {
   "cell_type": "code",
   "execution_count": null,
   "id": "e0434464-6e9a-4455-80f5-f24eefe6baa3",
   "metadata": {},
   "outputs": [],
   "source": [
    "ipd.Image(\"../animations/diagon_anty.png\")"
   ]
  },
  {
   "cell_type": "code",
   "execution_count": null,
   "id": "4df9baff-34f5-4603-a5d0-fdd67bb4651d",
   "metadata": {},
   "outputs": [],
   "source": []
  }
 ],
 "metadata": {
  "kernelspec": {
   "display_name": "Python 3 (ipykernel)",
   "language": "python",
   "name": "python3"
  },
  "language_info": {
   "codemirror_mode": {
    "name": "ipython",
    "version": 3
   },
   "file_extension": ".py",
   "mimetype": "text/x-python",
   "name": "python",
   "nbconvert_exporter": "python",
   "pygments_lexer": "ipython3",
   "version": "3.9.6"
  }
 },
 "nbformat": 4,
 "nbformat_minor": 5
}
